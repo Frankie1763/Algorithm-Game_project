{
 "cells": [
  {
   "cell_type": "markdown",
   "metadata": {},
   "source": [
    "# Define Class"
   ]
  },
  {
   "cell_type": "code",
   "execution_count": 8,
   "metadata": {},
   "outputs": [],
   "source": [
    "class Node(object):\n",
    "\n",
    "    def __init__(self, value = None, left=None, right=None, parent=None, turn=None, level = None):\n",
    "        self.value = value  # The node value\n",
    "        self.left = left    # Left child, meaning adding '0' to the string\n",
    "        self.right = right  # Right child, meaning adding '1' to the string\n",
    "        self.parent = parent # Parent\n",
    "        self.turn = turn # Paul = 1, Carole = -1\n",
    "        self.level = level # round\n",
    "\n",
    "\n",
    "    "
   ]
  },
  {
   "cell_type": "markdown",
   "metadata": {},
   "source": [
    "# Build Tree (with random values on leaves)"
   ]
  },
  {
   "cell_type": "code",
   "execution_count": 21,
   "metadata": {},
   "outputs": [],
   "source": [
    "def buildTree(node,t,l,n):\n",
    "    '''\n",
    "    input: a given leaf node, the next turn, the next level, the max level n\n",
    "    output: make an tree where the leaves have random number in [-1,+1] as value \n",
    "            and the interval nodes hold the value Paul or Carole will choose\n",
    "    '''\n",
    "    if l < n:\n",
    "        node.left = Node(turn = t,level = l, parent = node)\n",
    "        node.right = Node(turn = t,level = l, parent = node)\n",
    "                \n",
    "     #adding values to the leaves\n",
    "    if l == n: #leaf\n",
    "        node.value = random.uniform(-1,1)\n",
    "\n",
    "    else: #interval   \n",
    "        buildTree(node.left,t*(-1), l+1,n)\n",
    "        buildTree(node.right,t*(-1), l+1,n)\n",
    "\n",
    "        if node.turn == 1:\n",
    "            node.value = max(node.left.value,node.right.value)\n",
    "        else:\n",
    "            node.value = min(node.left.value,node.right.value)\n",
    "\n"
   ]
  },
  {
   "cell_type": "code",
   "execution_count": 22,
   "metadata": {},
   "outputs": [],
   "source": [
    "import random"
   ]
  },
  {
   "cell_type": "code",
   "execution_count": null,
   "metadata": {},
   "outputs": [],
   "source": [
    "root = Node(turn = 1, level = 0)\n",
    "t = -1 #t is the turn of next move\n",
    "l = 1 #l is the level of next move\n",
    "# n_lst = []\n",
    "# result_lst = []\n",
    "n = 99\n",
    "buildTree(root,t,l,n)\n",
    "        "
   ]
  },
  {
   "cell_type": "code",
   "execution_count": 28,
   "metadata": {},
   "outputs": [
    {
     "data": {
      "text/plain": [
       "0.23274201433989838"
      ]
     },
     "execution_count": 28,
     "metadata": {},
     "output_type": "execute_result"
    }
   ],
   "source": [
    "root.value"
   ]
  },
  {
   "cell_type": "markdown",
   "metadata": {},
   "source": [
    "# Conlusion"
   ]
  },
  {
   "cell_type": "code",
   "execution_count": null,
   "metadata": {},
   "outputs": [],
   "source": []
  }
 ],
 "metadata": {
  "kernelspec": {
   "display_name": "Python 3",
   "language": "python",
   "name": "python3"
  },
  "language_info": {
   "codemirror_mode": {
    "name": "ipython",
    "version": 3
   },
   "file_extension": ".py",
   "mimetype": "text/x-python",
   "name": "python",
   "nbconvert_exporter": "python",
   "pygments_lexer": "ipython3",
   "version": "3.7.2"
  }
 },
 "nbformat": 4,
 "nbformat_minor": 4
}
