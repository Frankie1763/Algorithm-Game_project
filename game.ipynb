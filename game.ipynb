{
 "cells": [
  {
   "cell_type": "markdown",
   "metadata": {},
   "source": [
    "# Define Class"
   ]
  },
  {
   "cell_type": "code",
   "execution_count": 1,
   "metadata": {},
   "outputs": [],
   "source": [
    "class Node(object):\n",
    "\n",
    "    def __init__(self, value = None, left=None, right=None, parent=None, turn=None, level = None):\n",
    "        self.value = value  # The node value\n",
    "        self.left = left    # Left child, meaning adding '0' to the string\n",
    "        self.right = right  # Right child, meaning adding '1' to the string\n",
    "        self.parent = parent # Parent\n",
    "        self.turn = turn # Paul = 1, Carole = -1\n",
    "        self.level = level # round\n",
    "\n",
    "\n",
    "    "
   ]
  },
  {
   "cell_type": "markdown",
   "metadata": {},
   "source": [
    "# Build Tree (without values)"
   ]
  },
  {
   "cell_type": "code",
   "execution_count": 2,
   "metadata": {},
   "outputs": [],
   "source": [
    "def buildTree(node,t,l,n):\n",
    "    if l <= n:\n",
    "        node.left = Node(turn = t,level = l)\n",
    "        node.right = Node(turn = t,level = l)\n",
    "                \n",
    "        #(if need to add values)adding values to the leaves\n",
    "        if l == n:\n",
    "            node.right.value = random.uniform(-1,1)\n",
    "            node.right.value = random.uniform(-1,1)\n",
    "                    \n",
    "        t = t*(-1)\n",
    "        l += 1\n",
    "        buildTree(node.left)\n",
    "        buildTree(node.right)\n",
    "\n",
    "root = Node(turn = 1, level = 0)\n",
    "t = -1 #t is the turn of next move\n",
    "l = 1#l is the level of next move\n",
    "buildTree(root,t,l,n)"
   ]
  },
  {
   "cell_type": "code",
   "execution_count": null,
   "metadata": {},
   "outputs": [],
   "source": [
    "a = root\n",
    "while a.level != n:\n",
    "    if a.turn == 1:#if it's Paul's turn, we want to maximize the final value"
   ]
  }
 ],
 "metadata": {
  "kernelspec": {
   "display_name": "Python 3",
   "language": "python",
   "name": "python3"
  },
  "language_info": {
   "codemirror_mode": {
    "name": "ipython",
    "version": 3
   },
   "file_extension": ".py",
   "mimetype": "text/x-python",
   "name": "python",
   "nbconvert_exporter": "python",
   "pygments_lexer": "ipython3",
   "version": "3.6.5"
  }
 },
 "nbformat": 4,
 "nbformat_minor": 4
}
